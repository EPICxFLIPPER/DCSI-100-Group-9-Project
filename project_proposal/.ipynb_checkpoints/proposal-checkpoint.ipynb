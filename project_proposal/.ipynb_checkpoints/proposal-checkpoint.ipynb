{
 "cells": [
  {
   "cell_type": "markdown",
   "id": "6f3a4932-de1f-4480-b38f-dbc249a0b5ed",
   "metadata": {},
   "source": [
    "This is the section for the group project proposal for group 9!"
   ]
  },
  {
   "cell_type": "markdown",
   "id": "ed2266a4-5738-48e2-a251-699af2368c3c",
   "metadata": {},
   "source": [
    "Here is the link to the data set we will be using, Online News Populartiy from the UCI Machine Learning Resprotory.\n",
    "Subsiquent sources can be found in the link on the UCI web page.\n",
    "Link: https://archive.ics.uci.edu/ml/datasets/Online+News+Popularity"
   ]
  },
  {
   "cell_type": "code",
   "execution_count": null,
   "id": "47ea3036-f87d-4194-abcd-0da5ff4ef078",
   "metadata": {},
   "outputs": [],
   "source": []
  }
 ],
 "metadata": {
  "kernelspec": {
   "display_name": "R",
   "language": "R",
   "name": "ir"
  },
  "language_info": {
   "codemirror_mode": "r",
   "file_extension": ".r",
   "mimetype": "text/x-r-source",
   "name": "R",
   "pygments_lexer": "r",
   "version": "4.1.3"
  }
 },
 "nbformat": 4,
 "nbformat_minor": 5
}
