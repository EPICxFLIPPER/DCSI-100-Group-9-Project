{
 "cells": [
  {
   "cell_type": "markdown",
   "id": "6f3a4932-de1f-4480-b38f-dbc249a0b5ed",
   "metadata": {},
   "source": [
    "This is the section for the group project proposal for group 9!"
   ]
  },
  {
   "cell_type": "markdown",
   "id": "ed2266a4-5738-48e2-a251-699af2368c3c",
   "metadata": {},
   "source": [
    "Here is the link to the data set we will be using, Online News Populartiy from the UCI Machine Learning Resprotory.\n",
    "Subsiquent sources can be found in the link on the UCI web page.\n",
    "Link: https://archive.ics.uci.edu/ml/datasets/Online+News+Popularity"
   ]
  },
  {
   "cell_type": "markdown",
   "id": "78882f58-b815-44ac-a501-034095c20ff9",
   "metadata": {},
   "source": [
    "Quesiton: Are we able to use previous articles to predict the number of shares an article recived."
   ]
  },
  {
   "cell_type": "markdown",
   "id": "3de05fe6-4d58-486a-8568-cbdb1204075b",
   "metadata": {},
   "source": [
    "In the cell below We will be importing all of the packages to help with our project!"
   ]
  },
  {
   "cell_type": "code",
   "execution_count": 1,
   "id": "670bcf9e-8ada-4dde-9b9d-15a9be6fc7e5",
   "metadata": {},
   "outputs": [
    {
     "name": "stderr",
     "output_type": "stream",
     "text": [
      "── \u001b[1mAttaching packages\u001b[22m ─────────────────────────────────────── tidyverse 1.3.1 ──\n",
      "\n",
      "\u001b[32m✔\u001b[39m \u001b[34mggplot2\u001b[39m 3.3.6     \u001b[32m✔\u001b[39m \u001b[34mpurrr  \u001b[39m 0.3.4\n",
      "\u001b[32m✔\u001b[39m \u001b[34mtibble \u001b[39m 3.1.7     \u001b[32m✔\u001b[39m \u001b[34mdplyr  \u001b[39m 1.0.9\n",
      "\u001b[32m✔\u001b[39m \u001b[34mtidyr  \u001b[39m 1.2.0     \u001b[32m✔\u001b[39m \u001b[34mstringr\u001b[39m 1.4.0\n",
      "\u001b[32m✔\u001b[39m \u001b[34mreadr  \u001b[39m 2.1.2     \u001b[32m✔\u001b[39m \u001b[34mforcats\u001b[39m 0.5.1\n",
      "\n",
      "── \u001b[1mConflicts\u001b[22m ────────────────────────────────────────── tidyverse_conflicts() ──\n",
      "\u001b[31m✖\u001b[39m \u001b[34mdplyr\u001b[39m::\u001b[32mfilter()\u001b[39m masks \u001b[34mstats\u001b[39m::filter()\n",
      "\u001b[31m✖\u001b[39m \u001b[34mdplyr\u001b[39m::\u001b[32mlag()\u001b[39m    masks \u001b[34mstats\u001b[39m::lag()\n",
      "\n",
      "── \u001b[1mAttaching packages\u001b[22m ────────────────────────────────────── tidymodels 1.0.0 ──\n",
      "\n",
      "\u001b[32m✔\u001b[39m \u001b[34mbroom       \u001b[39m 1.0.0     \u001b[32m✔\u001b[39m \u001b[34mrsample     \u001b[39m 1.0.0\n",
      "\u001b[32m✔\u001b[39m \u001b[34mdials       \u001b[39m 1.0.0     \u001b[32m✔\u001b[39m \u001b[34mtune        \u001b[39m 1.0.0\n",
      "\u001b[32m✔\u001b[39m \u001b[34minfer       \u001b[39m 1.0.2     \u001b[32m✔\u001b[39m \u001b[34mworkflows   \u001b[39m 1.0.0\n",
      "\u001b[32m✔\u001b[39m \u001b[34mmodeldata   \u001b[39m 1.0.0     \u001b[32m✔\u001b[39m \u001b[34mworkflowsets\u001b[39m 1.0.0\n",
      "\u001b[32m✔\u001b[39m \u001b[34mparsnip     \u001b[39m 1.0.0     \u001b[32m✔\u001b[39m \u001b[34myardstick   \u001b[39m 1.0.0\n",
      "\u001b[32m✔\u001b[39m \u001b[34mrecipes     \u001b[39m 1.0.1     \n",
      "\n",
      "── \u001b[1mConflicts\u001b[22m ───────────────────────────────────────── tidymodels_conflicts() ──\n",
      "\u001b[31m✖\u001b[39m \u001b[34mscales\u001b[39m::\u001b[32mdiscard()\u001b[39m masks \u001b[34mpurrr\u001b[39m::discard()\n",
      "\u001b[31m✖\u001b[39m \u001b[34mdplyr\u001b[39m::\u001b[32mfilter()\u001b[39m   masks \u001b[34mstats\u001b[39m::filter()\n",
      "\u001b[31m✖\u001b[39m \u001b[34mrecipes\u001b[39m::\u001b[32mfixed()\u001b[39m  masks \u001b[34mstringr\u001b[39m::fixed()\n",
      "\u001b[31m✖\u001b[39m \u001b[34mdplyr\u001b[39m::\u001b[32mlag()\u001b[39m      masks \u001b[34mstats\u001b[39m::lag()\n",
      "\u001b[31m✖\u001b[39m \u001b[34myardstick\u001b[39m::\u001b[32mspec()\u001b[39m masks \u001b[34mreadr\u001b[39m::spec()\n",
      "\u001b[31m✖\u001b[39m \u001b[34mrecipes\u001b[39m::\u001b[32mstep()\u001b[39m   masks \u001b[34mstats\u001b[39m::step()\n",
      "\u001b[34m•\u001b[39m Search for functions across packages at \u001b[32mhttps://www.tidymodels.org/find/\u001b[39m\n",
      "\n"
     ]
    }
   ],
   "source": [
    "library(repr)\n",
    "library(tidyverse)\n",
    "library(tidymodels)"
   ]
  },
  {
   "cell_type": "markdown",
   "id": "c0d5b1bf-e66a-469a-95c8-17f319a05908",
   "metadata": {},
   "source": [
    "In the cell below, we will be reading our data into R."
   ]
  },
  {
   "cell_type": "code",
   "execution_count": 2,
   "id": "abb778ce-94c2-4b3c-8366-aaa668c7f269",
   "metadata": {},
   "outputs": [
    {
     "data": {
      "text/html": [
       "'/home/jovyan/DCSI-100-Group-9-Project/project_proposal'"
      ],
      "text/latex": [
       "'/home/jovyan/DCSI-100-Group-9-Project/project\\_proposal'"
      ],
      "text/markdown": [
       "'/home/jovyan/DCSI-100-Group-9-Project/project_proposal'"
      ],
      "text/plain": [
       "[1] \"/home/jovyan/DCSI-100-Group-9-Project/project_proposal\""
      ]
     },
     "metadata": {},
     "output_type": "display_data"
    }
   ],
   "source": [
    "getwd()"
   ]
  },
  {
   "cell_type": "code",
   "execution_count": 3,
   "id": "095ee360-5613-4efb-9065-fda4026c3510",
   "metadata": {},
   "outputs": [
    {
     "name": "stderr",
     "output_type": "stream",
     "text": [
      "\u001b[1mRows: \u001b[22m\u001b[34m39644\u001b[39m \u001b[1mColumns: \u001b[22m\u001b[34m61\u001b[39m\n",
      "\u001b[36m──\u001b[39m \u001b[1mColumn specification\u001b[22m \u001b[36m────────────────────────────────────────────────────────\u001b[39m\n",
      "\u001b[1mDelimiter:\u001b[22m \",\"\n",
      "\u001b[31mchr\u001b[39m  (1): url\n",
      "\u001b[32mdbl\u001b[39m (60): timedelta, n_tokens_title, n_tokens_content, n_unique_tokens, n_no...\n",
      "\n",
      "\u001b[36mℹ\u001b[39m Use `spec()` to retrieve the full column specification for this data.\n",
      "\u001b[36mℹ\u001b[39m Specify the column types or set `show_col_types = FALSE` to quiet this message.\n"
     ]
    },
    {
     "data": {
      "text/html": [
       "<table class=\"dataframe\">\n",
       "<caption>A tibble: 6 × 61</caption>\n",
       "<thead>\n",
       "\t<tr><th scope=col>url</th><th scope=col>timedelta</th><th scope=col>n_tokens_title</th><th scope=col>n_tokens_content</th><th scope=col>n_unique_tokens</th><th scope=col>n_non_stop_words</th><th scope=col>n_non_stop_unique_tokens</th><th scope=col>num_hrefs</th><th scope=col>num_self_hrefs</th><th scope=col>num_imgs</th><th scope=col>⋯</th><th scope=col>min_positive_polarity</th><th scope=col>max_positive_polarity</th><th scope=col>avg_negative_polarity</th><th scope=col>min_negative_polarity</th><th scope=col>max_negative_polarity</th><th scope=col>title_subjectivity</th><th scope=col>title_sentiment_polarity</th><th scope=col>abs_title_subjectivity</th><th scope=col>abs_title_sentiment_polarity</th><th scope=col>shares</th></tr>\n",
       "\t<tr><th scope=col>&lt;chr&gt;</th><th scope=col>&lt;dbl&gt;</th><th scope=col>&lt;dbl&gt;</th><th scope=col>&lt;dbl&gt;</th><th scope=col>&lt;dbl&gt;</th><th scope=col>&lt;dbl&gt;</th><th scope=col>&lt;dbl&gt;</th><th scope=col>&lt;dbl&gt;</th><th scope=col>&lt;dbl&gt;</th><th scope=col>&lt;dbl&gt;</th><th scope=col>⋯</th><th scope=col>&lt;dbl&gt;</th><th scope=col>&lt;dbl&gt;</th><th scope=col>&lt;dbl&gt;</th><th scope=col>&lt;dbl&gt;</th><th scope=col>&lt;dbl&gt;</th><th scope=col>&lt;dbl&gt;</th><th scope=col>&lt;dbl&gt;</th><th scope=col>&lt;dbl&gt;</th><th scope=col>&lt;dbl&gt;</th><th scope=col>&lt;dbl&gt;</th></tr>\n",
       "</thead>\n",
       "<tbody>\n",
       "\t<tr><td>http://mashable.com/2013/01/07/amazon-instant-video-browser/  </td><td>731</td><td>12</td><td> 219</td><td>0.6635945</td><td>1</td><td>0.8153846</td><td> 4</td><td> 2</td><td> 1</td><td>⋯</td><td>0.10000000</td><td>0.7</td><td>-0.3500000</td><td>-0.600</td><td>-0.2000000</td><td>0.5000000</td><td>-0.1875000</td><td>0.00000000</td><td>0.1875000</td><td> 593</td></tr>\n",
       "\t<tr><td>http://mashable.com/2013/01/07/ap-samsung-sponsored-tweets/   </td><td>731</td><td> 9</td><td> 255</td><td>0.6047431</td><td>1</td><td>0.7919463</td><td> 3</td><td> 1</td><td> 1</td><td>⋯</td><td>0.03333333</td><td>0.7</td><td>-0.1187500</td><td>-0.125</td><td>-0.1000000</td><td>0.0000000</td><td> 0.0000000</td><td>0.50000000</td><td>0.0000000</td><td> 711</td></tr>\n",
       "\t<tr><td>http://mashable.com/2013/01/07/apple-40-billion-app-downloads/</td><td>731</td><td> 9</td><td> 211</td><td>0.5751295</td><td>1</td><td>0.6638655</td><td> 3</td><td> 1</td><td> 1</td><td>⋯</td><td>0.10000000</td><td>1.0</td><td>-0.4666667</td><td>-0.800</td><td>-0.1333333</td><td>0.0000000</td><td> 0.0000000</td><td>0.50000000</td><td>0.0000000</td><td>1500</td></tr>\n",
       "\t<tr><td>http://mashable.com/2013/01/07/astronaut-notre-dame-bcs/      </td><td>731</td><td> 9</td><td> 531</td><td>0.5037879</td><td>1</td><td>0.6656347</td><td> 9</td><td> 0</td><td> 1</td><td>⋯</td><td>0.13636364</td><td>0.8</td><td>-0.3696970</td><td>-0.600</td><td>-0.1666667</td><td>0.0000000</td><td> 0.0000000</td><td>0.50000000</td><td>0.0000000</td><td>1200</td></tr>\n",
       "\t<tr><td>http://mashable.com/2013/01/07/att-u-verse-apps/              </td><td>731</td><td>13</td><td>1072</td><td>0.4156456</td><td>1</td><td>0.5408895</td><td>19</td><td>19</td><td>20</td><td>⋯</td><td>0.03333333</td><td>1.0</td><td>-0.2201923</td><td>-0.500</td><td>-0.0500000</td><td>0.4545455</td><td> 0.1363636</td><td>0.04545455</td><td>0.1363636</td><td> 505</td></tr>\n",
       "\t<tr><td>http://mashable.com/2013/01/07/beewi-smart-toys/              </td><td>731</td><td>10</td><td> 370</td><td>0.5598886</td><td>1</td><td>0.6981982</td><td> 2</td><td> 2</td><td> 0</td><td>⋯</td><td>0.13636364</td><td>0.6</td><td>-0.1950000</td><td>-0.400</td><td>-0.1000000</td><td>0.6428571</td><td> 0.2142857</td><td>0.14285714</td><td>0.2142857</td><td> 855</td></tr>\n",
       "</tbody>\n",
       "</table>\n"
      ],
      "text/latex": [
       "A tibble: 6 × 61\n",
       "\\begin{tabular}{lllllllllllllllllllll}\n",
       " url & timedelta & n\\_tokens\\_title & n\\_tokens\\_content & n\\_unique\\_tokens & n\\_non\\_stop\\_words & n\\_non\\_stop\\_unique\\_tokens & num\\_hrefs & num\\_self\\_hrefs & num\\_imgs & ⋯ & min\\_positive\\_polarity & max\\_positive\\_polarity & avg\\_negative\\_polarity & min\\_negative\\_polarity & max\\_negative\\_polarity & title\\_subjectivity & title\\_sentiment\\_polarity & abs\\_title\\_subjectivity & abs\\_title\\_sentiment\\_polarity & shares\\\\\n",
       " <chr> & <dbl> & <dbl> & <dbl> & <dbl> & <dbl> & <dbl> & <dbl> & <dbl> & <dbl> & ⋯ & <dbl> & <dbl> & <dbl> & <dbl> & <dbl> & <dbl> & <dbl> & <dbl> & <dbl> & <dbl>\\\\\n",
       "\\hline\n",
       "\t http://mashable.com/2013/01/07/amazon-instant-video-browser/   & 731 & 12 &  219 & 0.6635945 & 1 & 0.8153846 &  4 &  2 &  1 & ⋯ & 0.10000000 & 0.7 & -0.3500000 & -0.600 & -0.2000000 & 0.5000000 & -0.1875000 & 0.00000000 & 0.1875000 &  593\\\\\n",
       "\t http://mashable.com/2013/01/07/ap-samsung-sponsored-tweets/    & 731 &  9 &  255 & 0.6047431 & 1 & 0.7919463 &  3 &  1 &  1 & ⋯ & 0.03333333 & 0.7 & -0.1187500 & -0.125 & -0.1000000 & 0.0000000 &  0.0000000 & 0.50000000 & 0.0000000 &  711\\\\\n",
       "\t http://mashable.com/2013/01/07/apple-40-billion-app-downloads/ & 731 &  9 &  211 & 0.5751295 & 1 & 0.6638655 &  3 &  1 &  1 & ⋯ & 0.10000000 & 1.0 & -0.4666667 & -0.800 & -0.1333333 & 0.0000000 &  0.0000000 & 0.50000000 & 0.0000000 & 1500\\\\\n",
       "\t http://mashable.com/2013/01/07/astronaut-notre-dame-bcs/       & 731 &  9 &  531 & 0.5037879 & 1 & 0.6656347 &  9 &  0 &  1 & ⋯ & 0.13636364 & 0.8 & -0.3696970 & -0.600 & -0.1666667 & 0.0000000 &  0.0000000 & 0.50000000 & 0.0000000 & 1200\\\\\n",
       "\t http://mashable.com/2013/01/07/att-u-verse-apps/               & 731 & 13 & 1072 & 0.4156456 & 1 & 0.5408895 & 19 & 19 & 20 & ⋯ & 0.03333333 & 1.0 & -0.2201923 & -0.500 & -0.0500000 & 0.4545455 &  0.1363636 & 0.04545455 & 0.1363636 &  505\\\\\n",
       "\t http://mashable.com/2013/01/07/beewi-smart-toys/               & 731 & 10 &  370 & 0.5598886 & 1 & 0.6981982 &  2 &  2 &  0 & ⋯ & 0.13636364 & 0.6 & -0.1950000 & -0.400 & -0.1000000 & 0.6428571 &  0.2142857 & 0.14285714 & 0.2142857 &  855\\\\\n",
       "\\end{tabular}\n"
      ],
      "text/markdown": [
       "\n",
       "A tibble: 6 × 61\n",
       "\n",
       "| url &lt;chr&gt; | timedelta &lt;dbl&gt; | n_tokens_title &lt;dbl&gt; | n_tokens_content &lt;dbl&gt; | n_unique_tokens &lt;dbl&gt; | n_non_stop_words &lt;dbl&gt; | n_non_stop_unique_tokens &lt;dbl&gt; | num_hrefs &lt;dbl&gt; | num_self_hrefs &lt;dbl&gt; | num_imgs &lt;dbl&gt; | ⋯ ⋯ | min_positive_polarity &lt;dbl&gt; | max_positive_polarity &lt;dbl&gt; | avg_negative_polarity &lt;dbl&gt; | min_negative_polarity &lt;dbl&gt; | max_negative_polarity &lt;dbl&gt; | title_subjectivity &lt;dbl&gt; | title_sentiment_polarity &lt;dbl&gt; | abs_title_subjectivity &lt;dbl&gt; | abs_title_sentiment_polarity &lt;dbl&gt; | shares &lt;dbl&gt; |\n",
       "|---|---|---|---|---|---|---|---|---|---|---|---|---|---|---|---|---|---|---|---|---|\n",
       "| http://mashable.com/2013/01/07/amazon-instant-video-browser/   | 731 | 12 |  219 | 0.6635945 | 1 | 0.8153846 |  4 |  2 |  1 | ⋯ | 0.10000000 | 0.7 | -0.3500000 | -0.600 | -0.2000000 | 0.5000000 | -0.1875000 | 0.00000000 | 0.1875000 |  593 |\n",
       "| http://mashable.com/2013/01/07/ap-samsung-sponsored-tweets/    | 731 |  9 |  255 | 0.6047431 | 1 | 0.7919463 |  3 |  1 |  1 | ⋯ | 0.03333333 | 0.7 | -0.1187500 | -0.125 | -0.1000000 | 0.0000000 |  0.0000000 | 0.50000000 | 0.0000000 |  711 |\n",
       "| http://mashable.com/2013/01/07/apple-40-billion-app-downloads/ | 731 |  9 |  211 | 0.5751295 | 1 | 0.6638655 |  3 |  1 |  1 | ⋯ | 0.10000000 | 1.0 | -0.4666667 | -0.800 | -0.1333333 | 0.0000000 |  0.0000000 | 0.50000000 | 0.0000000 | 1500 |\n",
       "| http://mashable.com/2013/01/07/astronaut-notre-dame-bcs/       | 731 |  9 |  531 | 0.5037879 | 1 | 0.6656347 |  9 |  0 |  1 | ⋯ | 0.13636364 | 0.8 | -0.3696970 | -0.600 | -0.1666667 | 0.0000000 |  0.0000000 | 0.50000000 | 0.0000000 | 1200 |\n",
       "| http://mashable.com/2013/01/07/att-u-verse-apps/               | 731 | 13 | 1072 | 0.4156456 | 1 | 0.5408895 | 19 | 19 | 20 | ⋯ | 0.03333333 | 1.0 | -0.2201923 | -0.500 | -0.0500000 | 0.4545455 |  0.1363636 | 0.04545455 | 0.1363636 |  505 |\n",
       "| http://mashable.com/2013/01/07/beewi-smart-toys/               | 731 | 10 |  370 | 0.5598886 | 1 | 0.6981982 |  2 |  2 |  0 | ⋯ | 0.13636364 | 0.6 | -0.1950000 | -0.400 | -0.1000000 | 0.6428571 |  0.2142857 | 0.14285714 | 0.2142857 |  855 |\n",
       "\n"
      ],
      "text/plain": [
       "  url                                                            timedelta\n",
       "1 http://mashable.com/2013/01/07/amazon-instant-video-browser/   731      \n",
       "2 http://mashable.com/2013/01/07/ap-samsung-sponsored-tweets/    731      \n",
       "3 http://mashable.com/2013/01/07/apple-40-billion-app-downloads/ 731      \n",
       "4 http://mashable.com/2013/01/07/astronaut-notre-dame-bcs/       731      \n",
       "5 http://mashable.com/2013/01/07/att-u-verse-apps/               731      \n",
       "6 http://mashable.com/2013/01/07/beewi-smart-toys/               731      \n",
       "  n_tokens_title n_tokens_content n_unique_tokens n_non_stop_words\n",
       "1 12              219             0.6635945       1               \n",
       "2  9              255             0.6047431       1               \n",
       "3  9              211             0.5751295       1               \n",
       "4  9              531             0.5037879       1               \n",
       "5 13             1072             0.4156456       1               \n",
       "6 10              370             0.5598886       1               \n",
       "  n_non_stop_unique_tokens num_hrefs num_self_hrefs num_imgs ⋯\n",
       "1 0.8153846                 4         2              1       ⋯\n",
       "2 0.7919463                 3         1              1       ⋯\n",
       "3 0.6638655                 3         1              1       ⋯\n",
       "4 0.6656347                 9         0              1       ⋯\n",
       "5 0.5408895                19        19             20       ⋯\n",
       "6 0.6981982                 2         2              0       ⋯\n",
       "  min_positive_polarity max_positive_polarity avg_negative_polarity\n",
       "1 0.10000000            0.7                   -0.3500000           \n",
       "2 0.03333333            0.7                   -0.1187500           \n",
       "3 0.10000000            1.0                   -0.4666667           \n",
       "4 0.13636364            0.8                   -0.3696970           \n",
       "5 0.03333333            1.0                   -0.2201923           \n",
       "6 0.13636364            0.6                   -0.1950000           \n",
       "  min_negative_polarity max_negative_polarity title_subjectivity\n",
       "1 -0.600                -0.2000000            0.5000000         \n",
       "2 -0.125                -0.1000000            0.0000000         \n",
       "3 -0.800                -0.1333333            0.0000000         \n",
       "4 -0.600                -0.1666667            0.0000000         \n",
       "5 -0.500                -0.0500000            0.4545455         \n",
       "6 -0.400                -0.1000000            0.6428571         \n",
       "  title_sentiment_polarity abs_title_subjectivity abs_title_sentiment_polarity\n",
       "1 -0.1875000               0.00000000             0.1875000                   \n",
       "2  0.0000000               0.50000000             0.0000000                   \n",
       "3  0.0000000               0.50000000             0.0000000                   \n",
       "4  0.0000000               0.50000000             0.0000000                   \n",
       "5  0.1363636               0.04545455             0.1363636                   \n",
       "6  0.2142857               0.14285714             0.2142857                   \n",
       "  shares\n",
       "1  593  \n",
       "2  711  \n",
       "3 1500  \n",
       "4 1200  \n",
       "5  505  \n",
       "6  855  "
      ]
     },
     "metadata": {},
     "output_type": "display_data"
    }
   ],
   "source": [
    "popularity<-read_csv(\"../data/OnlineNewsPopularity.csv\")\n",
    "head(popularity)"
   ]
  },
  {
   "cell_type": "markdown",
   "id": "0439edab-90af-4721-9e49-5fa618c4d47c",
   "metadata": {},
   "source": [
    "The next lines of Code will be used for wragling the data. I will be combining columns as well as removing extraneous columns I dont feel we need for this analysis. "
   ]
  },
  {
   "cell_type": "code",
   "execution_count": 4,
   "id": "21a138ca-9be1-48f3-a689-54ad0841677e",
   "metadata": {},
   "outputs": [
    {
     "name": "stdout",
     "output_type": "stream",
     "text": [
      "Rows: 39,644\n",
      "Columns: 8\n",
      "$ n_tokens_title       \u001b[3m\u001b[90m<dbl>\u001b[39m\u001b[23m 12, 9, 9, 9, 13, 10, 8, 12, 11, 10, 9, 10, 9, 9, …\n",
      "$ n_tokens_content     \u001b[3m\u001b[90m<dbl>\u001b[39m\u001b[23m 219, 255, 211, 531, 1072, 370, 960, 989, 97, 231,…\n",
      "$ n_unique_tokens      \u001b[3m\u001b[90m<dbl>\u001b[39m\u001b[23m 0.6635945, 0.6047431, 0.5751295, 0.5037879, 0.415…\n",
      "$ num_hrefs            \u001b[3m\u001b[90m<dbl>\u001b[39m\u001b[23m 4, 3, 3, 9, 19, 2, 21, 20, 2, 4, 11, 7, 18, 4, 19…\n",
      "$ num_imgs             \u001b[3m\u001b[90m<dbl>\u001b[39m\u001b[23m 1, 1, 1, 1, 20, 0, 20, 20, 0, 1, 1, 1, 11, 0, 9, …\n",
      "$ num_videos           \u001b[3m\u001b[90m<dbl>\u001b[39m\u001b[23m 0, 0, 0, 0, 0, 0, 0, 0, 0, 1, 0, 0, 0, 21, 0, 0, …\n",
      "$ average_token_length \u001b[3m\u001b[90m<dbl>\u001b[39m\u001b[23m 4.680365, 4.913725, 4.393365, 4.404896, 4.682836,…\n",
      "$ shares               \u001b[3m\u001b[90m<dbl>\u001b[39m\u001b[23m 593, 711, 1500, 1200, 505, 855, 556, 891, 3600, 7…\n"
     ]
    }
   ],
   "source": [
    "\n",
    "popularity_tidy <- popularity |> \n",
    "#removing columns that are specifically not litsted as predictors as well as columns that self reference articles.\n",
    "select(-url, -timedelta , - num_self_hrefs, -self_reference_min_shares:-self_reference_avg_sharess,\n",
    "      -is_weekend, -kw_min_min:-kw_avg_avg, -LDA_00:-LDA_04, -global_subjectivity:-abs_title_sentiment_polarity,\n",
    "      -n_non_stop_words,-n_non_stop_unique_tokens, -data_channel_is_lifestyle:-weekday_is_sunday, -num_keywords) \n",
    "\n",
    "\n",
    "glimpse(popularity_tidy)\n"
   ]
  },
  {
   "cell_type": "code",
   "execution_count": 5,
   "id": "5a4a156c-1742-4871-a7dc-5a0f21a89ac0",
   "metadata": {},
   "outputs": [],
   "source": [
    "#Splitting the data into training and testing data\n",
    "#Strata = the day the article was published\n",
    "popularity_split<- initial_split(popularity_tidy, prop = .75, strata = shares)\n",
    "popularity_train<- training(popularity_split)\n",
    "popularity_test <- testing(popularity_split)\n"
   ]
  },
  {
   "cell_type": "code",
   "execution_count": 31,
   "id": "254f9dd5-193e-4146-8782-a6e57e2705dd",
   "metadata": {},
   "outputs": [
    {
     "data": {
      "text/html": [
       "<table class=\"dataframe\">\n",
       "<caption>A tibble: 1 × 8</caption>\n",
       "<thead>\n",
       "\t<tr><th scope=col>n_tokens_title</th><th scope=col>n_tokens_content</th><th scope=col>n_unique_tokens</th><th scope=col>num_hrefs</th><th scope=col>num_imgs</th><th scope=col>num_videos</th><th scope=col>average_token_length</th><th scope=col>shares</th></tr>\n",
       "\t<tr><th scope=col>&lt;dbl&gt;</th><th scope=col>&lt;dbl&gt;</th><th scope=col>&lt;dbl&gt;</th><th scope=col>&lt;dbl&gt;</th><th scope=col>&lt;dbl&gt;</th><th scope=col>&lt;dbl&gt;</th><th scope=col>&lt;dbl&gt;</th><th scope=col>&lt;dbl&gt;</th></tr>\n",
       "</thead>\n",
       "<tbody>\n",
       "\t<tr><td>10.40256</td><td>549.7639</td><td>0.5536697</td><td>10.88094</td><td>4.548365</td><td>1.25787</td><td>4.549686</td><td>3420.964</td></tr>\n",
       "</tbody>\n",
       "</table>\n"
      ],
      "text/latex": [
       "A tibble: 1 × 8\n",
       "\\begin{tabular}{llllllll}\n",
       " n\\_tokens\\_title & n\\_tokens\\_content & n\\_unique\\_tokens & num\\_hrefs & num\\_imgs & num\\_videos & average\\_token\\_length & shares\\\\\n",
       " <dbl> & <dbl> & <dbl> & <dbl> & <dbl> & <dbl> & <dbl> & <dbl>\\\\\n",
       "\\hline\n",
       "\t 10.40256 & 549.7639 & 0.5536697 & 10.88094 & 4.548365 & 1.25787 & 4.549686 & 3420.964\\\\\n",
       "\\end{tabular}\n"
      ],
      "text/markdown": [
       "\n",
       "A tibble: 1 × 8\n",
       "\n",
       "| n_tokens_title &lt;dbl&gt; | n_tokens_content &lt;dbl&gt; | n_unique_tokens &lt;dbl&gt; | num_hrefs &lt;dbl&gt; | num_imgs &lt;dbl&gt; | num_videos &lt;dbl&gt; | average_token_length &lt;dbl&gt; | shares &lt;dbl&gt; |\n",
       "|---|---|---|---|---|---|---|---|\n",
       "| 10.40256 | 549.7639 | 0.5536697 | 10.88094 | 4.548365 | 1.25787 | 4.549686 | 3420.964 |\n",
       "\n"
      ],
      "text/plain": [
       "  n_tokens_title n_tokens_content n_unique_tokens num_hrefs num_imgs num_videos\n",
       "1 10.40256       549.7639         0.5536697       10.88094  4.548365 1.25787   \n",
       "  average_token_length shares  \n",
       "1 4.549686             3420.964"
      ]
     },
     "metadata": {},
     "output_type": "display_data"
    }
   ],
   "source": [
    "#Initial exploration table\n",
    "#Found the mean values of each of our predictors\n",
    "initial_table <- popularity_train |>\n",
    "map_df(mean, na.rm =TRUE)\n",
    "initial_table"
   ]
  },
  {
   "cell_type": "code",
   "execution_count": 32,
   "id": "61933bd6-7abc-4380-9386-6da88748141f",
   "metadata": {},
   "outputs": [
    {
     "name": "stderr",
     "output_type": "stream",
     "text": [
      "Warning message:\n",
      "“Removed 327 rows containing non-finite values (stat_bin).”\n",
      "Warning message:\n",
      "“Removed 2 rows containing missing values (geom_bar).”\n",
      "Warning message:\n",
      "“Removed 1 rows containing non-finite values (stat_bin).”\n",
      "Warning message:\n",
      "“Removed 15 rows containing missing values (geom_bar).”\n"
     ]
    },
    {
     "data": {
      "image/png": "[encoded data removed]",
      "text/plain": [
       "plot without title"
      ]
     },
     "metadata": {
      "image/png": {
       "height": 300,
       "width": 600
      }
     },
     "output_type": "display_data"
    },
    {
     "data": {
      "image/png": "[encoded data removed]",
      "text/plain": [
       "plot without title"
      ]
     },
     "metadata": {
      "image/png": {
       "height": 300,
       "width": 600
      }
     },
     "output_type": "display_data"
    },
    {
     "data": {
      "image/png": "[encoded data removed]",
      "text/plain": [
       "plot without title"
      ]
     },
     "metadata": {
      "image/png": {
       "height": 300,
       "width": 600
      }
     },
     "output_type": "display_data"
    }
   ],
   "source": [
    "#Below are the distributions of the 3 most varable categoreis in our data set. Though some of the categories are less variable, we belive \n",
    "#they will still be good predictors of shares.\n",
    "\n",
    "options(repr.plot.width = 10, repr.plot.height =5)\n",
    "\n",
    "shares_plot <- popularity_train |> \n",
    "ggplot(aes(x = shares)) + geom_histogram(binwidth = 100)+xlim(0,30000) +labs(x = \"Shares\" , y = \"Frequency\") +\n",
    "ggtitle(\"Distribuion of Shares\") + theme(text = element_text(size = 20))\n",
    "\n",
    "title_words_plot <- popularity_train |> \n",
    "ggplot(aes(x = n_tokens_title)) + geom_histogram(binwidth = 1)+xlim(0,20) + ylim(0,30)+labs(x = \"Number of Words in the Title\" , y = \"Frequency\") +\n",
    "ggtitle(\"Distribuion of Title words\") + theme(text = element_text(size = 20))\n",
    "\n",
    "content_words_plot <- popularity_train |> \n",
    "ggplot(aes(x = n_tokens_content)) + geom_histogram(binwidth = 30) +labs(x = \"Number of words in article\" , y = \"Frequency\") +\n",
    "ggtitle(\"Distribuion of Word Count from article\") + theme(text = element_text(size = 20))\n",
    "\n",
    "\n",
    "shares_plot\n",
    "title_words_plot\n",
    "content_words_plot"
   ]
  },
  {
   "cell_type": "code",
   "execution_count": null,
   "id": "d89a0ae4-392a-4874-ab22-f377357d9abb",
   "metadata": {},
   "outputs": [],
   "source": []
  }
 ],
 "metadata": {
  "kernelspec": {
   "display_name": "R",
   "language": "R",
   "name": "ir"
  },
  "language_info": {
   "codemirror_mode": "r",
   "file_extension": ".r",
   "mimetype": "text/x-r-source",
   "name": "R",
   "pygments_lexer": "r",
   "version": "4.1.3"
  }
 },
 "nbformat": 4,
 "nbformat_minor": 5
}
