{
 "cells": [
  {
   "cell_type": "markdown",
   "id": "6f3a4932-de1f-4480-b38f-dbc249a0b5ed",
   "metadata": {},
   "source": [
    "This is the section for the group project proposal for group 9!"
   ]
  },
  {
   "cell_type": "markdown",
   "id": "ed2266a4-5738-48e2-a251-699af2368c3c",
   "metadata": {},
   "source": [
    "Here is the link to the data set we will be using, Online News Populartiy from the UCI Machine Learning Resprotory.\n",
    "Subsiquent sources can be found in the link on the UCI web page.\n",
    "Link: https://archive.ics.uci.edu/ml/datasets/Online+News+Popularity"
   ]
  },
  {
   "cell_type": "markdown",
   "id": "3de05fe6-4d58-486a-8568-cbdb1204075b",
   "metadata": {},
   "source": [
    "In the cell below We will be importing all of the packages to help with our project!"
   ]
  },
  {
   "cell_type": "code",
   "execution_count": 2,
   "id": "670bcf9e-8ada-4dde-9b9d-15a9be6fc7e5",
   "metadata": {},
   "outputs": [
    {
     "name": "stderr",
     "output_type": "stream",
     "text": [
      "── \u001b[1mAttaching packages\u001b[22m ─────────────────────────────────────── tidyverse 1.3.1 ──\n",
      "\n",
      "\u001b[32m✔\u001b[39m \u001b[34mggplot2\u001b[39m 3.3.6     \u001b[32m✔\u001b[39m \u001b[34mpurrr  \u001b[39m 0.3.4\n",
      "\u001b[32m✔\u001b[39m \u001b[34mtibble \u001b[39m 3.1.7     \u001b[32m✔\u001b[39m \u001b[34mdplyr  \u001b[39m 1.0.9\n",
      "\u001b[32m✔\u001b[39m \u001b[34mtidyr  \u001b[39m 1.2.0     \u001b[32m✔\u001b[39m \u001b[34mstringr\u001b[39m 1.4.0\n",
      "\u001b[32m✔\u001b[39m \u001b[34mreadr  \u001b[39m 2.1.2     \u001b[32m✔\u001b[39m \u001b[34mforcats\u001b[39m 0.5.1\n",
      "\n",
      "── \u001b[1mConflicts\u001b[22m ────────────────────────────────────────── tidyverse_conflicts() ──\n",
      "\u001b[31m✖\u001b[39m \u001b[34mdplyr\u001b[39m::\u001b[32mfilter()\u001b[39m masks \u001b[34mstats\u001b[39m::filter()\n",
      "\u001b[31m✖\u001b[39m \u001b[34mdplyr\u001b[39m::\u001b[32mlag()\u001b[39m    masks \u001b[34mstats\u001b[39m::lag()\n",
      "\n",
      "── \u001b[1mAttaching packages\u001b[22m ────────────────────────────────────── tidymodels 1.0.0 ──\n",
      "\n",
      "\u001b[32m✔\u001b[39m \u001b[34mbroom       \u001b[39m 1.0.0     \u001b[32m✔\u001b[39m \u001b[34mrsample     \u001b[39m 1.0.0\n",
      "\u001b[32m✔\u001b[39m \u001b[34mdials       \u001b[39m 1.0.0     \u001b[32m✔\u001b[39m \u001b[34mtune        \u001b[39m 1.0.0\n",
      "\u001b[32m✔\u001b[39m \u001b[34minfer       \u001b[39m 1.0.2     \u001b[32m✔\u001b[39m \u001b[34mworkflows   \u001b[39m 1.0.0\n",
      "\u001b[32m✔\u001b[39m \u001b[34mmodeldata   \u001b[39m 1.0.0     \u001b[32m✔\u001b[39m \u001b[34mworkflowsets\u001b[39m 1.0.0\n",
      "\u001b[32m✔\u001b[39m \u001b[34mparsnip     \u001b[39m 1.0.0     \u001b[32m✔\u001b[39m \u001b[34myardstick   \u001b[39m 1.0.0\n",
      "\u001b[32m✔\u001b[39m \u001b[34mrecipes     \u001b[39m 1.0.1     \n",
      "\n",
      "── \u001b[1mConflicts\u001b[22m ───────────────────────────────────────── tidymodels_conflicts() ──\n",
      "\u001b[31m✖\u001b[39m \u001b[34mscales\u001b[39m::\u001b[32mdiscard()\u001b[39m masks \u001b[34mpurrr\u001b[39m::discard()\n",
      "\u001b[31m✖\u001b[39m \u001b[34mdplyr\u001b[39m::\u001b[32mfilter()\u001b[39m   masks \u001b[34mstats\u001b[39m::filter()\n",
      "\u001b[31m✖\u001b[39m \u001b[34mrecipes\u001b[39m::\u001b[32mfixed()\u001b[39m  masks \u001b[34mstringr\u001b[39m::fixed()\n",
      "\u001b[31m✖\u001b[39m \u001b[34mdplyr\u001b[39m::\u001b[32mlag()\u001b[39m      masks \u001b[34mstats\u001b[39m::lag()\n",
      "\u001b[31m✖\u001b[39m \u001b[34myardstick\u001b[39m::\u001b[32mspec()\u001b[39m masks \u001b[34mreadr\u001b[39m::spec()\n",
      "\u001b[31m✖\u001b[39m \u001b[34mrecipes\u001b[39m::\u001b[32mstep()\u001b[39m   masks \u001b[34mstats\u001b[39m::step()\n",
      "\u001b[34m•\u001b[39m Learn how to get started at \u001b[32mhttps://www.tidymodels.org/start/\u001b[39m\n",
      "\n"
     ]
    }
   ],
   "source": [
    "library(repr)\n",
    "library(tidyverse)\n",
    "library(tidymodels)"
   ]
  },
  {
   "cell_type": "markdown",
   "id": "c0d5b1bf-e66a-469a-95c8-17f319a05908",
   "metadata": {},
   "source": [
    "In the cell below, we will be reading our data into R."
   ]
  },
  {
   "cell_type": "code",
   "execution_count": 4,
   "id": "abb778ce-94c2-4b3c-8366-aaa668c7f269",
   "metadata": {},
   "outputs": [
    {
     "data": {
      "text/html": [
       "'/home/jovyan/DCSI-100-Group-9-Project/project_proposal'"
      ],
      "text/latex": [
       "'/home/jovyan/DCSI-100-Group-9-Project/project\\_proposal'"
      ],
      "text/markdown": [
       "'/home/jovyan/DCSI-100-Group-9-Project/project_proposal'"
      ],
      "text/plain": [
       "[1] \"/home/jovyan/DCSI-100-Group-9-Project/project_proposal\""
      ]
     },
     "metadata": {},
     "output_type": "display_data"
    }
   ],
   "source": [
    "getwd()"
   ]
  },
  {
   "cell_type": "code",
   "execution_count": 12,
   "id": "095ee360-5613-4efb-9065-fda4026c3510",
   "metadata": {},
   "outputs": [
    {
     "name": "stderr",
     "output_type": "stream",
     "text": [
      "\u001b[1mRows: \u001b[22m\u001b[34m39644\u001b[39m \u001b[1mColumns: \u001b[22m\u001b[34m61\u001b[39m\n",
      "\u001b[36m──\u001b[39m \u001b[1mColumn specification\u001b[22m \u001b[36m────────────────────────────────────────────────────────\u001b[39m\n",
      "\u001b[1mDelimiter:\u001b[22m \",\"\n",
      "\u001b[31mchr\u001b[39m  (1): url\n",
      "\u001b[32mdbl\u001b[39m (60): timedelta, n_tokens_title, n_tokens_content, n_unique_tokens, n_no...\n",
      "\n",
      "\u001b[36mℹ\u001b[39m Use `spec()` to retrieve the full column specification for this data.\n",
      "\u001b[36mℹ\u001b[39m Specify the column types or set `show_col_types = FALSE` to quiet this message.\n"
     ]
    },
    {
     "data": {
      "text/html": [
       "<table class=\"dataframe\">\n",
       "<caption>A tibble: 6 × 61</caption>\n",
       "<thead>\n",
       "\t<tr><th scope=col>url</th><th scope=col>timedelta</th><th scope=col>n_tokens_title</th><th scope=col>n_tokens_content</th><th scope=col>n_unique_tokens</th><th scope=col>n_non_stop_words</th><th scope=col>n_non_stop_unique_tokens</th><th scope=col>num_hrefs</th><th scope=col>num_self_hrefs</th><th scope=col>num_imgs</th><th scope=col>⋯</th><th scope=col>min_positive_polarity</th><th scope=col>max_positive_polarity</th><th scope=col>avg_negative_polarity</th><th scope=col>min_negative_polarity</th><th scope=col>max_negative_polarity</th><th scope=col>title_subjectivity</th><th scope=col>title_sentiment_polarity</th><th scope=col>abs_title_subjectivity</th><th scope=col>abs_title_sentiment_polarity</th><th scope=col>shares</th></tr>\n",
       "\t<tr><th scope=col>&lt;chr&gt;</th><th scope=col>&lt;dbl&gt;</th><th scope=col>&lt;dbl&gt;</th><th scope=col>&lt;dbl&gt;</th><th scope=col>&lt;dbl&gt;</th><th scope=col>&lt;dbl&gt;</th><th scope=col>&lt;dbl&gt;</th><th scope=col>&lt;dbl&gt;</th><th scope=col>&lt;dbl&gt;</th><th scope=col>&lt;dbl&gt;</th><th scope=col>⋯</th><th scope=col>&lt;dbl&gt;</th><th scope=col>&lt;dbl&gt;</th><th scope=col>&lt;dbl&gt;</th><th scope=col>&lt;dbl&gt;</th><th scope=col>&lt;dbl&gt;</th><th scope=col>&lt;dbl&gt;</th><th scope=col>&lt;dbl&gt;</th><th scope=col>&lt;dbl&gt;</th><th scope=col>&lt;dbl&gt;</th><th scope=col>&lt;dbl&gt;</th></tr>\n",
       "</thead>\n",
       "<tbody>\n",
       "\t<tr><td>http://mashable.com/2013/01/07/amazon-instant-video-browser/  </td><td>731</td><td>12</td><td> 219</td><td>0.6635945</td><td>1</td><td>0.8153846</td><td> 4</td><td> 2</td><td> 1</td><td>⋯</td><td>0.10000000</td><td>0.7</td><td>-0.3500000</td><td>-0.600</td><td>-0.2000000</td><td>0.5000000</td><td>-0.1875000</td><td>0.00000000</td><td>0.1875000</td><td> 593</td></tr>\n",
       "\t<tr><td>http://mashable.com/2013/01/07/ap-samsung-sponsored-tweets/   </td><td>731</td><td> 9</td><td> 255</td><td>0.6047431</td><td>1</td><td>0.7919463</td><td> 3</td><td> 1</td><td> 1</td><td>⋯</td><td>0.03333333</td><td>0.7</td><td>-0.1187500</td><td>-0.125</td><td>-0.1000000</td><td>0.0000000</td><td> 0.0000000</td><td>0.50000000</td><td>0.0000000</td><td> 711</td></tr>\n",
       "\t<tr><td>http://mashable.com/2013/01/07/apple-40-billion-app-downloads/</td><td>731</td><td> 9</td><td> 211</td><td>0.5751295</td><td>1</td><td>0.6638655</td><td> 3</td><td> 1</td><td> 1</td><td>⋯</td><td>0.10000000</td><td>1.0</td><td>-0.4666667</td><td>-0.800</td><td>-0.1333333</td><td>0.0000000</td><td> 0.0000000</td><td>0.50000000</td><td>0.0000000</td><td>1500</td></tr>\n",
       "\t<tr><td>http://mashable.com/2013/01/07/astronaut-notre-dame-bcs/      </td><td>731</td><td> 9</td><td> 531</td><td>0.5037879</td><td>1</td><td>0.6656347</td><td> 9</td><td> 0</td><td> 1</td><td>⋯</td><td>0.13636364</td><td>0.8</td><td>-0.3696970</td><td>-0.600</td><td>-0.1666667</td><td>0.0000000</td><td> 0.0000000</td><td>0.50000000</td><td>0.0000000</td><td>1200</td></tr>\n",
       "\t<tr><td>http://mashable.com/2013/01/07/att-u-verse-apps/              </td><td>731</td><td>13</td><td>1072</td><td>0.4156456</td><td>1</td><td>0.5408895</td><td>19</td><td>19</td><td>20</td><td>⋯</td><td>0.03333333</td><td>1.0</td><td>-0.2201923</td><td>-0.500</td><td>-0.0500000</td><td>0.4545455</td><td> 0.1363636</td><td>0.04545455</td><td>0.1363636</td><td> 505</td></tr>\n",
       "\t<tr><td>http://mashable.com/2013/01/07/beewi-smart-toys/              </td><td>731</td><td>10</td><td> 370</td><td>0.5598886</td><td>1</td><td>0.6981982</td><td> 2</td><td> 2</td><td> 0</td><td>⋯</td><td>0.13636364</td><td>0.6</td><td>-0.1950000</td><td>-0.400</td><td>-0.1000000</td><td>0.6428571</td><td> 0.2142857</td><td>0.14285714</td><td>0.2142857</td><td> 855</td></tr>\n",
       "</tbody>\n",
       "</table>\n"
      ],
      "text/latex": [
       "A tibble: 6 × 61\n",
       "\\begin{tabular}{lllllllllllllllllllll}\n",
       " url & timedelta & n\\_tokens\\_title & n\\_tokens\\_content & n\\_unique\\_tokens & n\\_non\\_stop\\_words & n\\_non\\_stop\\_unique\\_tokens & num\\_hrefs & num\\_self\\_hrefs & num\\_imgs & ⋯ & min\\_positive\\_polarity & max\\_positive\\_polarity & avg\\_negative\\_polarity & min\\_negative\\_polarity & max\\_negative\\_polarity & title\\_subjectivity & title\\_sentiment\\_polarity & abs\\_title\\_subjectivity & abs\\_title\\_sentiment\\_polarity & shares\\\\\n",
       " <chr> & <dbl> & <dbl> & <dbl> & <dbl> & <dbl> & <dbl> & <dbl> & <dbl> & <dbl> & ⋯ & <dbl> & <dbl> & <dbl> & <dbl> & <dbl> & <dbl> & <dbl> & <dbl> & <dbl> & <dbl>\\\\\n",
       "\\hline\n",
       "\t http://mashable.com/2013/01/07/amazon-instant-video-browser/   & 731 & 12 &  219 & 0.6635945 & 1 & 0.8153846 &  4 &  2 &  1 & ⋯ & 0.10000000 & 0.7 & -0.3500000 & -0.600 & -0.2000000 & 0.5000000 & -0.1875000 & 0.00000000 & 0.1875000 &  593\\\\\n",
       "\t http://mashable.com/2013/01/07/ap-samsung-sponsored-tweets/    & 731 &  9 &  255 & 0.6047431 & 1 & 0.7919463 &  3 &  1 &  1 & ⋯ & 0.03333333 & 0.7 & -0.1187500 & -0.125 & -0.1000000 & 0.0000000 &  0.0000000 & 0.50000000 & 0.0000000 &  711\\\\\n",
       "\t http://mashable.com/2013/01/07/apple-40-billion-app-downloads/ & 731 &  9 &  211 & 0.5751295 & 1 & 0.6638655 &  3 &  1 &  1 & ⋯ & 0.10000000 & 1.0 & -0.4666667 & -0.800 & -0.1333333 & 0.0000000 &  0.0000000 & 0.50000000 & 0.0000000 & 1500\\\\\n",
       "\t http://mashable.com/2013/01/07/astronaut-notre-dame-bcs/       & 731 &  9 &  531 & 0.5037879 & 1 & 0.6656347 &  9 &  0 &  1 & ⋯ & 0.13636364 & 0.8 & -0.3696970 & -0.600 & -0.1666667 & 0.0000000 &  0.0000000 & 0.50000000 & 0.0000000 & 1200\\\\\n",
       "\t http://mashable.com/2013/01/07/att-u-verse-apps/               & 731 & 13 & 1072 & 0.4156456 & 1 & 0.5408895 & 19 & 19 & 20 & ⋯ & 0.03333333 & 1.0 & -0.2201923 & -0.500 & -0.0500000 & 0.4545455 &  0.1363636 & 0.04545455 & 0.1363636 &  505\\\\\n",
       "\t http://mashable.com/2013/01/07/beewi-smart-toys/               & 731 & 10 &  370 & 0.5598886 & 1 & 0.6981982 &  2 &  2 &  0 & ⋯ & 0.13636364 & 0.6 & -0.1950000 & -0.400 & -0.1000000 & 0.6428571 &  0.2142857 & 0.14285714 & 0.2142857 &  855\\\\\n",
       "\\end{tabular}\n"
      ],
      "text/markdown": [
       "\n",
       "A tibble: 6 × 61\n",
       "\n",
       "| url &lt;chr&gt; | timedelta &lt;dbl&gt; | n_tokens_title &lt;dbl&gt; | n_tokens_content &lt;dbl&gt; | n_unique_tokens &lt;dbl&gt; | n_non_stop_words &lt;dbl&gt; | n_non_stop_unique_tokens &lt;dbl&gt; | num_hrefs &lt;dbl&gt; | num_self_hrefs &lt;dbl&gt; | num_imgs &lt;dbl&gt; | ⋯ ⋯ | min_positive_polarity &lt;dbl&gt; | max_positive_polarity &lt;dbl&gt; | avg_negative_polarity &lt;dbl&gt; | min_negative_polarity &lt;dbl&gt; | max_negative_polarity &lt;dbl&gt; | title_subjectivity &lt;dbl&gt; | title_sentiment_polarity &lt;dbl&gt; | abs_title_subjectivity &lt;dbl&gt; | abs_title_sentiment_polarity &lt;dbl&gt; | shares &lt;dbl&gt; |\n",
       "|---|---|---|---|---|---|---|---|---|---|---|---|---|---|---|---|---|---|---|---|---|\n",
       "| http://mashable.com/2013/01/07/amazon-instant-video-browser/   | 731 | 12 |  219 | 0.6635945 | 1 | 0.8153846 |  4 |  2 |  1 | ⋯ | 0.10000000 | 0.7 | -0.3500000 | -0.600 | -0.2000000 | 0.5000000 | -0.1875000 | 0.00000000 | 0.1875000 |  593 |\n",
       "| http://mashable.com/2013/01/07/ap-samsung-sponsored-tweets/    | 731 |  9 |  255 | 0.6047431 | 1 | 0.7919463 |  3 |  1 |  1 | ⋯ | 0.03333333 | 0.7 | -0.1187500 | -0.125 | -0.1000000 | 0.0000000 |  0.0000000 | 0.50000000 | 0.0000000 |  711 |\n",
       "| http://mashable.com/2013/01/07/apple-40-billion-app-downloads/ | 731 |  9 |  211 | 0.5751295 | 1 | 0.6638655 |  3 |  1 |  1 | ⋯ | 0.10000000 | 1.0 | -0.4666667 | -0.800 | -0.1333333 | 0.0000000 |  0.0000000 | 0.50000000 | 0.0000000 | 1500 |\n",
       "| http://mashable.com/2013/01/07/astronaut-notre-dame-bcs/       | 731 |  9 |  531 | 0.5037879 | 1 | 0.6656347 |  9 |  0 |  1 | ⋯ | 0.13636364 | 0.8 | -0.3696970 | -0.600 | -0.1666667 | 0.0000000 |  0.0000000 | 0.50000000 | 0.0000000 | 1200 |\n",
       "| http://mashable.com/2013/01/07/att-u-verse-apps/               | 731 | 13 | 1072 | 0.4156456 | 1 | 0.5408895 | 19 | 19 | 20 | ⋯ | 0.03333333 | 1.0 | -0.2201923 | -0.500 | -0.0500000 | 0.4545455 |  0.1363636 | 0.04545455 | 0.1363636 |  505 |\n",
       "| http://mashable.com/2013/01/07/beewi-smart-toys/               | 731 | 10 |  370 | 0.5598886 | 1 | 0.6981982 |  2 |  2 |  0 | ⋯ | 0.13636364 | 0.6 | -0.1950000 | -0.400 | -0.1000000 | 0.6428571 |  0.2142857 | 0.14285714 | 0.2142857 |  855 |\n",
       "\n"
      ],
      "text/plain": [
       "  url                                                            timedelta\n",
       "1 http://mashable.com/2013/01/07/amazon-instant-video-browser/   731      \n",
       "2 http://mashable.com/2013/01/07/ap-samsung-sponsored-tweets/    731      \n",
       "3 http://mashable.com/2013/01/07/apple-40-billion-app-downloads/ 731      \n",
       "4 http://mashable.com/2013/01/07/astronaut-notre-dame-bcs/       731      \n",
       "5 http://mashable.com/2013/01/07/att-u-verse-apps/               731      \n",
       "6 http://mashable.com/2013/01/07/beewi-smart-toys/               731      \n",
       "  n_tokens_title n_tokens_content n_unique_tokens n_non_stop_words\n",
       "1 12              219             0.6635945       1               \n",
       "2  9              255             0.6047431       1               \n",
       "3  9              211             0.5751295       1               \n",
       "4  9              531             0.5037879       1               \n",
       "5 13             1072             0.4156456       1               \n",
       "6 10              370             0.5598886       1               \n",
       "  n_non_stop_unique_tokens num_hrefs num_self_hrefs num_imgs ⋯\n",
       "1 0.8153846                 4         2              1       ⋯\n",
       "2 0.7919463                 3         1              1       ⋯\n",
       "3 0.6638655                 3         1              1       ⋯\n",
       "4 0.6656347                 9         0              1       ⋯\n",
       "5 0.5408895                19        19             20       ⋯\n",
       "6 0.6981982                 2         2              0       ⋯\n",
       "  min_positive_polarity max_positive_polarity avg_negative_polarity\n",
       "1 0.10000000            0.7                   -0.3500000           \n",
       "2 0.03333333            0.7                   -0.1187500           \n",
       "3 0.10000000            1.0                   -0.4666667           \n",
       "4 0.13636364            0.8                   -0.3696970           \n",
       "5 0.03333333            1.0                   -0.2201923           \n",
       "6 0.13636364            0.6                   -0.1950000           \n",
       "  min_negative_polarity max_negative_polarity title_subjectivity\n",
       "1 -0.600                -0.2000000            0.5000000         \n",
       "2 -0.125                -0.1000000            0.0000000         \n",
       "3 -0.800                -0.1333333            0.0000000         \n",
       "4 -0.600                -0.1666667            0.0000000         \n",
       "5 -0.500                -0.0500000            0.4545455         \n",
       "6 -0.400                -0.1000000            0.6428571         \n",
       "  title_sentiment_polarity abs_title_subjectivity abs_title_sentiment_polarity\n",
       "1 -0.1875000               0.00000000             0.1875000                   \n",
       "2  0.0000000               0.50000000             0.0000000                   \n",
       "3  0.0000000               0.50000000             0.0000000                   \n",
       "4  0.0000000               0.50000000             0.0000000                   \n",
       "5  0.1363636               0.04545455             0.1363636                   \n",
       "6  0.2142857               0.14285714             0.2142857                   \n",
       "  shares\n",
       "1  593  \n",
       "2  711  \n",
       "3 1500  \n",
       "4 1200  \n",
       "5  505  \n",
       "6  855  "
      ]
     },
     "metadata": {},
     "output_type": "display_data"
    }
   ],
   "source": [
    "popularity<-read_csv(\"/home/jovyan/DCSI-100-Group-9-Project/data/OnlineNewsPopularity.csv\")\n",
    "head(popularity)"
   ]
  },
  {
   "cell_type": "code",
   "execution_count": null,
   "id": "6e4ab3ac-b2f6-473f-8dd4-c831dd493c03",
   "metadata": {},
   "outputs": [],
   "source": []
  }
 ],
 "metadata": {
  "kernelspec": {
   "display_name": "R",
   "language": "R",
   "name": "ir"
  },
  "language_info": {
   "codemirror_mode": "r",
   "file_extension": ".r",
   "mimetype": "text/x-r-source",
   "name": "R",
   "pygments_lexer": "r",
   "version": "4.1.3"
  }
 },
 "nbformat": 4,
 "nbformat_minor": 5
}
