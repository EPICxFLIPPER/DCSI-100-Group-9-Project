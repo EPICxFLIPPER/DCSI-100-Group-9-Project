{
 "cells": [
  {
   "cell_type": "markdown",
   "id": "6f3a4932-de1f-4480-b38f-dbc249a0b5ed",
   "metadata": {},
   "source": [
    "This is the section for the group project proposal for group 9!"
   ]
  },
  {
   "cell_type": "markdown",
   "id": "ed2266a4-5738-48e2-a251-699af2368c3c",
   "metadata": {},
   "source": [
    "Here is the link to the data set we will be using, Online News Populartiy from the UCI Machine Learning Resprotory.\n",
    "Subsiquent sources can be found in the link on the UCI web page.\n",
    "Link: https://archive.ics.uci.edu/ml/datasets/Online+News+Popularity"
   ]
  },
  {
   "cell_type": "markdown",
   "id": "78882f58-b815-44ac-a501-034095c20ff9",
   "metadata": {},
   "source": [
    "Quesiton: Are we able to use previous articles to predict the day of the week an article was published?"
   ]
  },
  {
   "cell_type": "markdown",
   "id": "3de05fe6-4d58-486a-8568-cbdb1204075b",
   "metadata": {},
   "source": [
    "In the cell below We will be importing all of the packages to help with our project!"
   ]
  },
  {
   "cell_type": "code",
   "execution_count": 1,
   "id": "670bcf9e-8ada-4dde-9b9d-15a9be6fc7e5",
   "metadata": {},
   "outputs": [
    {
     "name": "stderr",
     "output_type": "stream",
     "text": [
      "── \u001b[1mAttaching packages\u001b[22m ─────────────────────────────────────── tidyverse 1.3.1 ──\n",
      "\n",
      "\u001b[32m✔\u001b[39m \u001b[34mggplot2\u001b[39m 3.3.6     \u001b[32m✔\u001b[39m \u001b[34mpurrr  \u001b[39m 0.3.4\n",
      "\u001b[32m✔\u001b[39m \u001b[34mtibble \u001b[39m 3.1.7     \u001b[32m✔\u001b[39m \u001b[34mdplyr  \u001b[39m 1.0.9\n",
      "\u001b[32m✔\u001b[39m \u001b[34mtidyr  \u001b[39m 1.2.0     \u001b[32m✔\u001b[39m \u001b[34mstringr\u001b[39m 1.4.0\n",
      "\u001b[32m✔\u001b[39m \u001b[34mreadr  \u001b[39m 2.1.2     \u001b[32m✔\u001b[39m \u001b[34mforcats\u001b[39m 0.5.1\n",
      "\n",
      "── \u001b[1mConflicts\u001b[22m ────────────────────────────────────────── tidyverse_conflicts() ──\n",
      "\u001b[31m✖\u001b[39m \u001b[34mdplyr\u001b[39m::\u001b[32mfilter()\u001b[39m masks \u001b[34mstats\u001b[39m::filter()\n",
      "\u001b[31m✖\u001b[39m \u001b[34mdplyr\u001b[39m::\u001b[32mlag()\u001b[39m    masks \u001b[34mstats\u001b[39m::lag()\n",
      "\n",
      "── \u001b[1mAttaching packages\u001b[22m ────────────────────────────────────── tidymodels 1.0.0 ──\n",
      "\n",
      "\u001b[32m✔\u001b[39m \u001b[34mbroom       \u001b[39m 1.0.0     \u001b[32m✔\u001b[39m \u001b[34mrsample     \u001b[39m 1.0.0\n",
      "\u001b[32m✔\u001b[39m \u001b[34mdials       \u001b[39m 1.0.0     \u001b[32m✔\u001b[39m \u001b[34mtune        \u001b[39m 1.0.0\n",
      "\u001b[32m✔\u001b[39m \u001b[34minfer       \u001b[39m 1.0.2     \u001b[32m✔\u001b[39m \u001b[34mworkflows   \u001b[39m 1.0.0\n",
      "\u001b[32m✔\u001b[39m \u001b[34mmodeldata   \u001b[39m 1.0.0     \u001b[32m✔\u001b[39m \u001b[34mworkflowsets\u001b[39m 1.0.0\n",
      "\u001b[32m✔\u001b[39m \u001b[34mparsnip     \u001b[39m 1.0.0     \u001b[32m✔\u001b[39m \u001b[34myardstick   \u001b[39m 1.0.0\n",
      "\u001b[32m✔\u001b[39m \u001b[34mrecipes     \u001b[39m 1.0.1     \n",
      "\n",
      "── \u001b[1mConflicts\u001b[22m ───────────────────────────────────────── tidymodels_conflicts() ──\n",
      "\u001b[31m✖\u001b[39m \u001b[34mscales\u001b[39m::\u001b[32mdiscard()\u001b[39m masks \u001b[34mpurrr\u001b[39m::discard()\n",
      "\u001b[31m✖\u001b[39m \u001b[34mdplyr\u001b[39m::\u001b[32mfilter()\u001b[39m   masks \u001b[34mstats\u001b[39m::filter()\n",
      "\u001b[31m✖\u001b[39m \u001b[34mrecipes\u001b[39m::\u001b[32mfixed()\u001b[39m  masks \u001b[34mstringr\u001b[39m::fixed()\n",
      "\u001b[31m✖\u001b[39m \u001b[34mdplyr\u001b[39m::\u001b[32mlag()\u001b[39m      masks \u001b[34mstats\u001b[39m::lag()\n",
      "\u001b[31m✖\u001b[39m \u001b[34myardstick\u001b[39m::\u001b[32mspec()\u001b[39m masks \u001b[34mreadr\u001b[39m::spec()\n",
      "\u001b[31m✖\u001b[39m \u001b[34mrecipes\u001b[39m::\u001b[32mstep()\u001b[39m   masks \u001b[34mstats\u001b[39m::step()\n",
      "\u001b[34m•\u001b[39m Use \u001b[32mtidymodels_prefer()\u001b[39m to resolve common conflicts.\n",
      "\n"
     ]
    }
   ],
   "source": [
    "library(repr)\n",
    "library(tidyverse)\n",
    "library(tidymodels)"
   ]
  },
  {
   "cell_type": "markdown",
   "id": "c0d5b1bf-e66a-469a-95c8-17f319a05908",
   "metadata": {},
   "source": [
    "In the cell below, we will be reading our data into R."
   ]
  },
  {
   "cell_type": "code",
   "execution_count": 2,
   "id": "abb778ce-94c2-4b3c-8366-aaa668c7f269",
   "metadata": {},
   "outputs": [
    {
     "data": {
      "text/html": [
       "'/home/jovyan/DCSI-100-Group-9-Project/project_proposal'"
      ],
      "text/latex": [
       "'/home/jovyan/DCSI-100-Group-9-Project/project\\_proposal'"
      ],
      "text/markdown": [
       "'/home/jovyan/DCSI-100-Group-9-Project/project_proposal'"
      ],
      "text/plain": [
       "[1] \"/home/jovyan/DCSI-100-Group-9-Project/project_proposal\""
      ]
     },
     "metadata": {},
     "output_type": "display_data"
    }
   ],
   "source": [
    "getwd()"
   ]
  },
  {
   "cell_type": "code",
   "execution_count": 3,
   "id": "095ee360-5613-4efb-9065-fda4026c3510",
   "metadata": {},
   "outputs": [
    {
     "name": "stderr",
     "output_type": "stream",
     "text": [
      "\u001b[1mRows: \u001b[22m\u001b[34m39644\u001b[39m \u001b[1mColumns: \u001b[22m\u001b[34m61\u001b[39m\n",
      "\u001b[36m──\u001b[39m \u001b[1mColumn specification\u001b[22m \u001b[36m────────────────────────────────────────────────────────\u001b[39m\n",
      "\u001b[1mDelimiter:\u001b[22m \",\"\n",
      "\u001b[31mchr\u001b[39m  (1): url\n",
      "\u001b[32mdbl\u001b[39m (60): timedelta, n_tokens_title, n_tokens_content, n_unique_tokens, n_no...\n",
      "\n",
      "\u001b[36mℹ\u001b[39m Use `spec()` to retrieve the full column specification for this data.\n",
      "\u001b[36mℹ\u001b[39m Specify the column types or set `show_col_types = FALSE` to quiet this message.\n"
     ]
    },
    {
     "data": {
      "text/html": [
       "<table class=\"dataframe\">\n",
       "<caption>A tibble: 6 × 61</caption>\n",
       "<thead>\n",
       "\t<tr><th scope=col>url</th><th scope=col>timedelta</th><th scope=col>n_tokens_title</th><th scope=col>n_tokens_content</th><th scope=col>n_unique_tokens</th><th scope=col>n_non_stop_words</th><th scope=col>n_non_stop_unique_tokens</th><th scope=col>num_hrefs</th><th scope=col>num_self_hrefs</th><th scope=col>num_imgs</th><th scope=col>⋯</th><th scope=col>min_positive_polarity</th><th scope=col>max_positive_polarity</th><th scope=col>avg_negative_polarity</th><th scope=col>min_negative_polarity</th><th scope=col>max_negative_polarity</th><th scope=col>title_subjectivity</th><th scope=col>title_sentiment_polarity</th><th scope=col>abs_title_subjectivity</th><th scope=col>abs_title_sentiment_polarity</th><th scope=col>shares</th></tr>\n",
       "\t<tr><th scope=col>&lt;chr&gt;</th><th scope=col>&lt;dbl&gt;</th><th scope=col>&lt;dbl&gt;</th><th scope=col>&lt;dbl&gt;</th><th scope=col>&lt;dbl&gt;</th><th scope=col>&lt;dbl&gt;</th><th scope=col>&lt;dbl&gt;</th><th scope=col>&lt;dbl&gt;</th><th scope=col>&lt;dbl&gt;</th><th scope=col>&lt;dbl&gt;</th><th scope=col>⋯</th><th scope=col>&lt;dbl&gt;</th><th scope=col>&lt;dbl&gt;</th><th scope=col>&lt;dbl&gt;</th><th scope=col>&lt;dbl&gt;</th><th scope=col>&lt;dbl&gt;</th><th scope=col>&lt;dbl&gt;</th><th scope=col>&lt;dbl&gt;</th><th scope=col>&lt;dbl&gt;</th><th scope=col>&lt;dbl&gt;</th><th scope=col>&lt;dbl&gt;</th></tr>\n",
       "</thead>\n",
       "<tbody>\n",
       "\t<tr><td>http://mashable.com/2013/01/07/amazon-instant-video-browser/  </td><td>731</td><td>12</td><td> 219</td><td>0.6635945</td><td>1</td><td>0.8153846</td><td> 4</td><td> 2</td><td> 1</td><td>⋯</td><td>0.10000000</td><td>0.7</td><td>-0.3500000</td><td>-0.600</td><td>-0.2000000</td><td>0.5000000</td><td>-0.1875000</td><td>0.00000000</td><td>0.1875000</td><td> 593</td></tr>\n",
       "\t<tr><td>http://mashable.com/2013/01/07/ap-samsung-sponsored-tweets/   </td><td>731</td><td> 9</td><td> 255</td><td>0.6047431</td><td>1</td><td>0.7919463</td><td> 3</td><td> 1</td><td> 1</td><td>⋯</td><td>0.03333333</td><td>0.7</td><td>-0.1187500</td><td>-0.125</td><td>-0.1000000</td><td>0.0000000</td><td> 0.0000000</td><td>0.50000000</td><td>0.0000000</td><td> 711</td></tr>\n",
       "\t<tr><td>http://mashable.com/2013/01/07/apple-40-billion-app-downloads/</td><td>731</td><td> 9</td><td> 211</td><td>0.5751295</td><td>1</td><td>0.6638655</td><td> 3</td><td> 1</td><td> 1</td><td>⋯</td><td>0.10000000</td><td>1.0</td><td>-0.4666667</td><td>-0.800</td><td>-0.1333333</td><td>0.0000000</td><td> 0.0000000</td><td>0.50000000</td><td>0.0000000</td><td>1500</td></tr>\n",
       "\t<tr><td>http://mashable.com/2013/01/07/astronaut-notre-dame-bcs/      </td><td>731</td><td> 9</td><td> 531</td><td>0.5037879</td><td>1</td><td>0.6656347</td><td> 9</td><td> 0</td><td> 1</td><td>⋯</td><td>0.13636364</td><td>0.8</td><td>-0.3696970</td><td>-0.600</td><td>-0.1666667</td><td>0.0000000</td><td> 0.0000000</td><td>0.50000000</td><td>0.0000000</td><td>1200</td></tr>\n",
       "\t<tr><td>http://mashable.com/2013/01/07/att-u-verse-apps/              </td><td>731</td><td>13</td><td>1072</td><td>0.4156456</td><td>1</td><td>0.5408895</td><td>19</td><td>19</td><td>20</td><td>⋯</td><td>0.03333333</td><td>1.0</td><td>-0.2201923</td><td>-0.500</td><td>-0.0500000</td><td>0.4545455</td><td> 0.1363636</td><td>0.04545455</td><td>0.1363636</td><td> 505</td></tr>\n",
       "\t<tr><td>http://mashable.com/2013/01/07/beewi-smart-toys/              </td><td>731</td><td>10</td><td> 370</td><td>0.5598886</td><td>1</td><td>0.6981982</td><td> 2</td><td> 2</td><td> 0</td><td>⋯</td><td>0.13636364</td><td>0.6</td><td>-0.1950000</td><td>-0.400</td><td>-0.1000000</td><td>0.6428571</td><td> 0.2142857</td><td>0.14285714</td><td>0.2142857</td><td> 855</td></tr>\n",
       "</tbody>\n",
       "</table>\n"
      ],
      "text/latex": [
       "A tibble: 6 × 61\n",
       "\\begin{tabular}{lllllllllllllllllllll}\n",
       " url & timedelta & n\\_tokens\\_title & n\\_tokens\\_content & n\\_unique\\_tokens & n\\_non\\_stop\\_words & n\\_non\\_stop\\_unique\\_tokens & num\\_hrefs & num\\_self\\_hrefs & num\\_imgs & ⋯ & min\\_positive\\_polarity & max\\_positive\\_polarity & avg\\_negative\\_polarity & min\\_negative\\_polarity & max\\_negative\\_polarity & title\\_subjectivity & title\\_sentiment\\_polarity & abs\\_title\\_subjectivity & abs\\_title\\_sentiment\\_polarity & shares\\\\\n",
       " <chr> & <dbl> & <dbl> & <dbl> & <dbl> & <dbl> & <dbl> & <dbl> & <dbl> & <dbl> & ⋯ & <dbl> & <dbl> & <dbl> & <dbl> & <dbl> & <dbl> & <dbl> & <dbl> & <dbl> & <dbl>\\\\\n",
       "\\hline\n",
       "\t http://mashable.com/2013/01/07/amazon-instant-video-browser/   & 731 & 12 &  219 & 0.6635945 & 1 & 0.8153846 &  4 &  2 &  1 & ⋯ & 0.10000000 & 0.7 & -0.3500000 & -0.600 & -0.2000000 & 0.5000000 & -0.1875000 & 0.00000000 & 0.1875000 &  593\\\\\n",
       "\t http://mashable.com/2013/01/07/ap-samsung-sponsored-tweets/    & 731 &  9 &  255 & 0.6047431 & 1 & 0.7919463 &  3 &  1 &  1 & ⋯ & 0.03333333 & 0.7 & -0.1187500 & -0.125 & -0.1000000 & 0.0000000 &  0.0000000 & 0.50000000 & 0.0000000 &  711\\\\\n",
       "\t http://mashable.com/2013/01/07/apple-40-billion-app-downloads/ & 731 &  9 &  211 & 0.5751295 & 1 & 0.6638655 &  3 &  1 &  1 & ⋯ & 0.10000000 & 1.0 & -0.4666667 & -0.800 & -0.1333333 & 0.0000000 &  0.0000000 & 0.50000000 & 0.0000000 & 1500\\\\\n",
       "\t http://mashable.com/2013/01/07/astronaut-notre-dame-bcs/       & 731 &  9 &  531 & 0.5037879 & 1 & 0.6656347 &  9 &  0 &  1 & ⋯ & 0.13636364 & 0.8 & -0.3696970 & -0.600 & -0.1666667 & 0.0000000 &  0.0000000 & 0.50000000 & 0.0000000 & 1200\\\\\n",
       "\t http://mashable.com/2013/01/07/att-u-verse-apps/               & 731 & 13 & 1072 & 0.4156456 & 1 & 0.5408895 & 19 & 19 & 20 & ⋯ & 0.03333333 & 1.0 & -0.2201923 & -0.500 & -0.0500000 & 0.4545455 &  0.1363636 & 0.04545455 & 0.1363636 &  505\\\\\n",
       "\t http://mashable.com/2013/01/07/beewi-smart-toys/               & 731 & 10 &  370 & 0.5598886 & 1 & 0.6981982 &  2 &  2 &  0 & ⋯ & 0.13636364 & 0.6 & -0.1950000 & -0.400 & -0.1000000 & 0.6428571 &  0.2142857 & 0.14285714 & 0.2142857 &  855\\\\\n",
       "\\end{tabular}\n"
      ],
      "text/markdown": [
       "\n",
       "A tibble: 6 × 61\n",
       "\n",
       "| url &lt;chr&gt; | timedelta &lt;dbl&gt; | n_tokens_title &lt;dbl&gt; | n_tokens_content &lt;dbl&gt; | n_unique_tokens &lt;dbl&gt; | n_non_stop_words &lt;dbl&gt; | n_non_stop_unique_tokens &lt;dbl&gt; | num_hrefs &lt;dbl&gt; | num_self_hrefs &lt;dbl&gt; | num_imgs &lt;dbl&gt; | ⋯ ⋯ | min_positive_polarity &lt;dbl&gt; | max_positive_polarity &lt;dbl&gt; | avg_negative_polarity &lt;dbl&gt; | min_negative_polarity &lt;dbl&gt; | max_negative_polarity &lt;dbl&gt; | title_subjectivity &lt;dbl&gt; | title_sentiment_polarity &lt;dbl&gt; | abs_title_subjectivity &lt;dbl&gt; | abs_title_sentiment_polarity &lt;dbl&gt; | shares &lt;dbl&gt; |\n",
       "|---|---|---|---|---|---|---|---|---|---|---|---|---|---|---|---|---|---|---|---|---|\n",
       "| http://mashable.com/2013/01/07/amazon-instant-video-browser/   | 731 | 12 |  219 | 0.6635945 | 1 | 0.8153846 |  4 |  2 |  1 | ⋯ | 0.10000000 | 0.7 | -0.3500000 | -0.600 | -0.2000000 | 0.5000000 | -0.1875000 | 0.00000000 | 0.1875000 |  593 |\n",
       "| http://mashable.com/2013/01/07/ap-samsung-sponsored-tweets/    | 731 |  9 |  255 | 0.6047431 | 1 | 0.7919463 |  3 |  1 |  1 | ⋯ | 0.03333333 | 0.7 | -0.1187500 | -0.125 | -0.1000000 | 0.0000000 |  0.0000000 | 0.50000000 | 0.0000000 |  711 |\n",
       "| http://mashable.com/2013/01/07/apple-40-billion-app-downloads/ | 731 |  9 |  211 | 0.5751295 | 1 | 0.6638655 |  3 |  1 |  1 | ⋯ | 0.10000000 | 1.0 | -0.4666667 | -0.800 | -0.1333333 | 0.0000000 |  0.0000000 | 0.50000000 | 0.0000000 | 1500 |\n",
       "| http://mashable.com/2013/01/07/astronaut-notre-dame-bcs/       | 731 |  9 |  531 | 0.5037879 | 1 | 0.6656347 |  9 |  0 |  1 | ⋯ | 0.13636364 | 0.8 | -0.3696970 | -0.600 | -0.1666667 | 0.0000000 |  0.0000000 | 0.50000000 | 0.0000000 | 1200 |\n",
       "| http://mashable.com/2013/01/07/att-u-verse-apps/               | 731 | 13 | 1072 | 0.4156456 | 1 | 0.5408895 | 19 | 19 | 20 | ⋯ | 0.03333333 | 1.0 | -0.2201923 | -0.500 | -0.0500000 | 0.4545455 |  0.1363636 | 0.04545455 | 0.1363636 |  505 |\n",
       "| http://mashable.com/2013/01/07/beewi-smart-toys/               | 731 | 10 |  370 | 0.5598886 | 1 | 0.6981982 |  2 |  2 |  0 | ⋯ | 0.13636364 | 0.6 | -0.1950000 | -0.400 | -0.1000000 | 0.6428571 |  0.2142857 | 0.14285714 | 0.2142857 |  855 |\n",
       "\n"
      ],
      "text/plain": [
       "  url                                                            timedelta\n",
       "1 http://mashable.com/2013/01/07/amazon-instant-video-browser/   731      \n",
       "2 http://mashable.com/2013/01/07/ap-samsung-sponsored-tweets/    731      \n",
       "3 http://mashable.com/2013/01/07/apple-40-billion-app-downloads/ 731      \n",
       "4 http://mashable.com/2013/01/07/astronaut-notre-dame-bcs/       731      \n",
       "5 http://mashable.com/2013/01/07/att-u-verse-apps/               731      \n",
       "6 http://mashable.com/2013/01/07/beewi-smart-toys/               731      \n",
       "  n_tokens_title n_tokens_content n_unique_tokens n_non_stop_words\n",
       "1 12              219             0.6635945       1               \n",
       "2  9              255             0.6047431       1               \n",
       "3  9              211             0.5751295       1               \n",
       "4  9              531             0.5037879       1               \n",
       "5 13             1072             0.4156456       1               \n",
       "6 10              370             0.5598886       1               \n",
       "  n_non_stop_unique_tokens num_hrefs num_self_hrefs num_imgs ⋯\n",
       "1 0.8153846                 4         2              1       ⋯\n",
       "2 0.7919463                 3         1              1       ⋯\n",
       "3 0.6638655                 3         1              1       ⋯\n",
       "4 0.6656347                 9         0              1       ⋯\n",
       "5 0.5408895                19        19             20       ⋯\n",
       "6 0.6981982                 2         2              0       ⋯\n",
       "  min_positive_polarity max_positive_polarity avg_negative_polarity\n",
       "1 0.10000000            0.7                   -0.3500000           \n",
       "2 0.03333333            0.7                   -0.1187500           \n",
       "3 0.10000000            1.0                   -0.4666667           \n",
       "4 0.13636364            0.8                   -0.3696970           \n",
       "5 0.03333333            1.0                   -0.2201923           \n",
       "6 0.13636364            0.6                   -0.1950000           \n",
       "  min_negative_polarity max_negative_polarity title_subjectivity\n",
       "1 -0.600                -0.2000000            0.5000000         \n",
       "2 -0.125                -0.1000000            0.0000000         \n",
       "3 -0.800                -0.1333333            0.0000000         \n",
       "4 -0.600                -0.1666667            0.0000000         \n",
       "5 -0.500                -0.0500000            0.4545455         \n",
       "6 -0.400                -0.1000000            0.6428571         \n",
       "  title_sentiment_polarity abs_title_subjectivity abs_title_sentiment_polarity\n",
       "1 -0.1875000               0.00000000             0.1875000                   \n",
       "2  0.0000000               0.50000000             0.0000000                   \n",
       "3  0.0000000               0.50000000             0.0000000                   \n",
       "4  0.0000000               0.50000000             0.0000000                   \n",
       "5  0.1363636               0.04545455             0.1363636                   \n",
       "6  0.2142857               0.14285714             0.2142857                   \n",
       "  shares\n",
       "1  593  \n",
       "2  711  \n",
       "3 1500  \n",
       "4 1200  \n",
       "5  505  \n",
       "6  855  "
      ]
     },
     "metadata": {},
     "output_type": "display_data"
    }
   ],
   "source": [
    "popularity<-read_csv(\"/home/jovyan/DCSI-100-Group-9-Project/data/OnlineNewsPopularity.csv\")\n",
    "head(popularity)"
   ]
  },
  {
   "cell_type": "markdown",
   "id": "0439edab-90af-4721-9e49-5fa618c4d47c",
   "metadata": {},
   "source": [
    "The next lines of Code will be used for wragling the data. I will be combining columns as well as removing extraneous columns I dont feel we need for this analysis. "
   ]
  },
  {
   "cell_type": "code",
   "execution_count": 18,
   "id": "21a138ca-9be1-48f3-a689-54ad0841677e",
   "metadata": {},
   "outputs": [],
   "source": [
    "\n",
    "popularity_tidy <- popularity |> \n",
    "#removing columns that are specifically not litsted as predictors as well as columns that self reference articles.\n",
    "select(-url, -timedelta , - num_self_hrefs, -self_reference_min_shares:-self_reference_avg_sharess,\n",
    "      -is_weekend, -kw_min_min:-kw_avg_avg) |>\n",
    "\n",
    "#The next line of code removes null values for day of the week.\n",
    "#Since this data set makes each day boolean, we must check that each article \n",
    "#has been published on a day (i.e. one of the monday - sunday columns has a value 1 for each article)\n",
    "#same is true for article type removing nulls.\n",
    "filter(weekday_is_monday == 1| weekday_is_tuesday == 1| weekday_is_wednesday == 1| weekday_is_thursday == 1|\n",
    "       weekday_is_friday == 1| weekday_is_saturday == 1| weekday_is_sunday == 1) |>\n",
    "\n",
    "filter(data_channel_is_lifestyle == 1 | data_channel_is_entertainment == 1 | data_channel_is_bus == 1|\n",
    "       data_channel_is_socmed == 1| data_channel_is_tech ==1 | data_channel_is_world == 1) |>\n",
    "\n",
    "#Converts the days of the week and article type to factors from dbl\n",
    "mutate(monday = as_factor(weekday_is_monday), tuesday = as_factor(weekday_is_tuesday), \n",
    "      wednesday = as_factor(weekday_is_wednesday) , thursday = as_factor(weekday_is_thursday),\n",
    "      friday = as_factor(weekday_is_friday), saturday = as_factor(weekday_is_saturday),\n",
    "       sunday = as_factor(weekday_is_sunday)) |>\n",
    "\n",
    "mutate(lifestyle = as_factor(data_channel_is_lifestyle), \n",
    "       entertainment = as_factor(data_channel_is_entertainment), \n",
    "       bus = as_factor(data_channel_is_bus), \n",
    "       socmed = as_factor(data_channel_is_socmed), \n",
    "       tech = as_factor(data_channel_is_tech), \n",
    "       world = as_factor(data_channel_is_world)) |>\n",
    "\n",
    "#combines the days of week and type data into their respective columns.\n",
    "#pub_day is the day the article was published\n",
    "pivot_longer(cols = lifestyle:world, \n",
    "             names_to = \"article_type\",\n",
    "             values_to = \"yes\") |>\n",
    "filter(yes == \"1\") |>\n",
    "\n",
    "pivot_longer(cols = monday:sunday, \n",
    "             names_to = \"pub_day\",\n",
    "             values_to = \"yes_2\") |>\n",
    "filter(yes_2 == \"1\") |>\n",
    "\n",
    "select(-yes,-yes_2 , -data_channel_is_lifestyle:-weekday_is_sunday)\n",
    "\n",
    "#The new colums \"article_type\" and \"pub_day\" are the type of article and the day published respectivly "
   ]
  },
  {
   "cell_type": "code",
   "execution_count": 19,
   "id": "5a4a156c-1742-4871-a7dc-5a0f21a89ac0",
   "metadata": {},
   "outputs": [],
   "source": [
    "#Splitting the data into training and testing data\n",
    "#Strata = the day the article was published\n",
    "popularity_split<- initial_split(popularity_tidy, prop = .75, strata = pub_day)\n",
    "popularity_train<- training(popularity_split)\n",
    "popularity_test <- testing(popularity_split)"
   ]
  },
  {
   "cell_type": "code",
   "execution_count": 24,
   "id": "254f9dd5-193e-4146-8782-a6e57e2705dd",
   "metadata": {},
   "outputs": [
    {
     "data": {
      "text/html": [
       "<table class=\"dataframe\">\n",
       "<caption>A tibble: 7 × 8</caption>\n",
       "<thead>\n",
       "\t<tr><th scope=col>pub_day</th><th scope=col>avg_shares</th><th scope=col>avg_tokens_title</th><th scope=col>avg_tokens_content</th><th scope=col>avg_unique_tokens</th><th scope=col>avg_hrefs</th><th scope=col>avg_imgs</th><th scope=col>avg_videos</th></tr>\n",
       "\t<tr><th scope=col>&lt;chr&gt;</th><th scope=col>&lt;dbl&gt;</th><th scope=col>&lt;dbl&gt;</th><th scope=col>&lt;dbl&gt;</th><th scope=col>&lt;dbl&gt;</th><th scope=col>&lt;dbl&gt;</th><th scope=col>&lt;dbl&gt;</th><th scope=col>&lt;dbl&gt;</th></tr>\n",
       "</thead>\n",
       "<tbody>\n",
       "\t<tr><td>friday   </td><td>2697.384</td><td>10.43365</td><td>564.4110</td><td>0.5342668</td><td>10.110862</td><td>3.707167</td><td>0.9543673</td></tr>\n",
       "\t<tr><td>monday   </td><td>3209.086</td><td>10.42586</td><td>577.3788</td><td>0.5308029</td><td>10.299351</td><td>4.012280</td><td>1.1214087</td></tr>\n",
       "\t<tr><td>saturday </td><td>3449.820</td><td>10.36072</td><td>682.5965</td><td>0.5091111</td><td>13.447562</td><td>4.868403</td><td>0.9265197</td></tr>\n",
       "\t<tr><td>sunday   </td><td>3582.243</td><td>10.53935</td><td>674.1501</td><td>0.5097924</td><td>12.209884</td><td>4.962782</td><td>0.9804759</td></tr>\n",
       "\t<tr><td>thursday </td><td>2645.815</td><td>10.34900</td><td>566.4350</td><td>0.5314901</td><td> 9.972054</td><td>3.740251</td><td>0.9022964</td></tr>\n",
       "\t<tr><td>tuesday  </td><td>2892.538</td><td>10.43672</td><td>579.8789</td><td>0.6775237</td><td>10.098792</td><td>3.968624</td><td>1.0250159</td></tr>\n",
       "\t<tr><td>wednesday</td><td>2826.752</td><td>10.44847</td><td>561.4920</td><td>0.5331301</td><td> 9.628404</td><td>3.563888</td><td>0.9807289</td></tr>\n",
       "</tbody>\n",
       "</table>\n"
      ],
      "text/latex": [
       "A tibble: 7 × 8\n",
       "\\begin{tabular}{llllllll}\n",
       " pub\\_day & avg\\_shares & avg\\_tokens\\_title & avg\\_tokens\\_content & avg\\_unique\\_tokens & avg\\_hrefs & avg\\_imgs & avg\\_videos\\\\\n",
       " <chr> & <dbl> & <dbl> & <dbl> & <dbl> & <dbl> & <dbl> & <dbl>\\\\\n",
       "\\hline\n",
       "\t friday    & 2697.384 & 10.43365 & 564.4110 & 0.5342668 & 10.110862 & 3.707167 & 0.9543673\\\\\n",
       "\t monday    & 3209.086 & 10.42586 & 577.3788 & 0.5308029 & 10.299351 & 4.012280 & 1.1214087\\\\\n",
       "\t saturday  & 3449.820 & 10.36072 & 682.5965 & 0.5091111 & 13.447562 & 4.868403 & 0.9265197\\\\\n",
       "\t sunday    & 3582.243 & 10.53935 & 674.1501 & 0.5097924 & 12.209884 & 4.962782 & 0.9804759\\\\\n",
       "\t thursday  & 2645.815 & 10.34900 & 566.4350 & 0.5314901 &  9.972054 & 3.740251 & 0.9022964\\\\\n",
       "\t tuesday   & 2892.538 & 10.43672 & 579.8789 & 0.6775237 & 10.098792 & 3.968624 & 1.0250159\\\\\n",
       "\t wednesday & 2826.752 & 10.44847 & 561.4920 & 0.5331301 &  9.628404 & 3.563888 & 0.9807289\\\\\n",
       "\\end{tabular}\n"
      ],
      "text/markdown": [
       "\n",
       "A tibble: 7 × 8\n",
       "\n",
       "| pub_day &lt;chr&gt; | avg_shares &lt;dbl&gt; | avg_tokens_title &lt;dbl&gt; | avg_tokens_content &lt;dbl&gt; | avg_unique_tokens &lt;dbl&gt; | avg_hrefs &lt;dbl&gt; | avg_imgs &lt;dbl&gt; | avg_videos &lt;dbl&gt; |\n",
       "|---|---|---|---|---|---|---|---|\n",
       "| friday    | 2697.384 | 10.43365 | 564.4110 | 0.5342668 | 10.110862 | 3.707167 | 0.9543673 |\n",
       "| monday    | 3209.086 | 10.42586 | 577.3788 | 0.5308029 | 10.299351 | 4.012280 | 1.1214087 |\n",
       "| saturday  | 3449.820 | 10.36072 | 682.5965 | 0.5091111 | 13.447562 | 4.868403 | 0.9265197 |\n",
       "| sunday    | 3582.243 | 10.53935 | 674.1501 | 0.5097924 | 12.209884 | 4.962782 | 0.9804759 |\n",
       "| thursday  | 2645.815 | 10.34900 | 566.4350 | 0.5314901 |  9.972054 | 3.740251 | 0.9022964 |\n",
       "| tuesday   | 2892.538 | 10.43672 | 579.8789 | 0.6775237 | 10.098792 | 3.968624 | 1.0250159 |\n",
       "| wednesday | 2826.752 | 10.44847 | 561.4920 | 0.5331301 |  9.628404 | 3.563888 | 0.9807289 |\n",
       "\n"
      ],
      "text/plain": [
       "  pub_day   avg_shares avg_tokens_title avg_tokens_content avg_unique_tokens\n",
       "1 friday    2697.384   10.43365         564.4110           0.5342668        \n",
       "2 monday    3209.086   10.42586         577.3788           0.5308029        \n",
       "3 saturday  3449.820   10.36072         682.5965           0.5091111        \n",
       "4 sunday    3582.243   10.53935         674.1501           0.5097924        \n",
       "5 thursday  2645.815   10.34900         566.4350           0.5314901        \n",
       "6 tuesday   2892.538   10.43672         579.8789           0.6775237        \n",
       "7 wednesday 2826.752   10.44847         561.4920           0.5331301        \n",
       "  avg_hrefs avg_imgs avg_videos\n",
       "1 10.110862 3.707167 0.9543673 \n",
       "2 10.299351 4.012280 1.1214087 \n",
       "3 13.447562 4.868403 0.9265197 \n",
       "4 12.209884 4.962782 0.9804759 \n",
       "5  9.972054 3.740251 0.9022964 \n",
       "6 10.098792 3.968624 1.0250159 \n",
       "7  9.628404 3.563888 0.9807289 "
      ]
     },
     "metadata": {},
     "output_type": "display_data"
    }
   ],
   "source": [
    "#Initial exploration table\n",
    "#Since there are 40+ columns I will only initially be viewing the ones I hyphtisize to have the most importance\n",
    "initial_table <- popularity_train |> \n",
    "select(pub_day, shares, n_tokens_title, n_tokens_content, n_unique_tokens, num_hrefs, num_imgs, num_videos, -article_type) |> \n",
    "group_by(pub_day) |> \n",
    "summarize(avg_shares = mean(shares), \n",
    "          avg_tokens_title = mean(n_tokens_title),\n",
    "          avg_tokens_content = mean(n_tokens_content),\n",
    "          avg_unique_tokens = mean(n_unique_tokens),\n",
    "          avg_hrefs = mean(num_hrefs),\n",
    "          avg_imgs = mean(num_imgs),\n",
    "          avg_videos = mean(num_videos))\n",
    "initial_table"
   ]
  },
  {
   "cell_type": "code",
   "execution_count": null,
   "id": "61933bd6-7abc-4380-9386-6da88748141f",
   "metadata": {},
   "outputs": [],
   "source": []
  }
 ],
 "metadata": {
  "kernelspec": {
   "display_name": "R",
   "language": "R",
   "name": "ir"
  },
  "language_info": {
   "codemirror_mode": "r",
   "file_extension": ".r",
   "mimetype": "text/x-r-source",
   "name": "R",
   "pygments_lexer": "r",
   "version": "4.1.3"
  }
 },
 "nbformat": 4,
 "nbformat_minor": 5
}
